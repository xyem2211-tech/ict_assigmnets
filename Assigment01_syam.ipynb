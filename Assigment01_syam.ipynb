{
  "nbformat": 4,
  "nbformat_minor": 0,
  "metadata": {
    "colab": {
      "provenance": [],
      "toc_visible": true,
      "authorship_tag": "ABX9TyMjPgPEeVuTTjkmVUgG3Q5e",
      "include_colab_link": true
    },
    "kernelspec": {
      "name": "python3",
      "display_name": "Python 3"
    },
    "language_info": {
      "name": "python"
    }
  },
  "cells": [
    {
      "cell_type": "markdown",
      "metadata": {
        "id": "view-in-github",
        "colab_type": "text"
      },
      "source": [
        "<a href=\"https://colab.research.google.com/github/xyem2211-tech/ict_assigmnets/blob/main/Assigment01_syam.ipynb\" target=\"_parent\"><img src=\"https://colab.research.google.com/assets/colab-badge.svg\" alt=\"Open In Colab\"/></a>"
      ]
    },
    {
      "cell_type": "code",
      "execution_count": null,
      "metadata": {
        "id": "5_Il7SU3VV2q"
      },
      "outputs": [],
      "source": []
    },
    {
      "cell_type": "markdown",
      "source": [
        "Question-1\n"
      ],
      "metadata": {
        "id": "5pKGZ2Y7WNp3"
      }
    },
    {
      "cell_type": "code",
      "source": [
        "item1_price = int(input(\"item1 price:\"))\n",
        "item1_quantity = int(input(\"item1 quantity:\"))\n",
        "item2_price = int(input(\"item2 price:\"))\n",
        "item2_quantity = int(input(\"item2 quantity:\"))\n",
        "total_bill = (item1_price * item1_quantity) + (item2_price * item2_quantity)\n",
        "print(\"total bill is:\", total_bill)\n"
      ],
      "metadata": {
        "colab": {
          "base_uri": "https://localhost:8080/"
        },
        "id": "52P4XbY3WRem",
        "outputId": "76a3b10a-fde3-43a7-d3e3-befeb49fbdd8"
      },
      "execution_count": 63,
      "outputs": [
        {
          "output_type": "stream",
          "name": "stdout",
          "text": [
            "item1 price:45\n",
            "item1 quantity:3\n",
            "item2 price:23\n",
            "item2 quantity:4\n",
            "total bill is: 227\n"
          ]
        }
      ]
    },
    {
      "cell_type": "code",
      "source": [
        "a = int(input(\"Enter the 1st item price : \"))\n",
        "b = int(input(\"Enter the 2nd item price : \"))\n",
        "c = int(input(\"Enter the 1st quntity : \"))\n",
        "d = int(input(\"Enter the 2nd quntity : \"))\n",
        "total_price = (a+b)\n",
        "total_quntity =(c+d)\n",
        "ptint(total_price)"
      ],
      "metadata": {
        "colab": {
          "base_uri": "https://localhost:8080/",
          "height": 412
        },
        "id": "ex_reD51YfyN",
        "outputId": "5babe0aa-d452-4523-da2b-3b970618ff09"
      },
      "execution_count": null,
      "outputs": [
        {
          "output_type": "error",
          "ename": "KeyboardInterrupt",
          "evalue": "Interrupted by user",
          "traceback": [
            "\u001b[0;31m---------------------------------------------------------------------------\u001b[0m",
            "\u001b[0;31mKeyboardInterrupt\u001b[0m                         Traceback (most recent call last)",
            "\u001b[0;32m/tmp/ipython-input-1041057219.py\u001b[0m in \u001b[0;36m<cell line: 0>\u001b[0;34m()\u001b[0m\n\u001b[0;32m----> 1\u001b[0;31m \u001b[0ma\u001b[0m \u001b[0;34m=\u001b[0m \u001b[0mint\u001b[0m\u001b[0;34m(\u001b[0m\u001b[0minput\u001b[0m\u001b[0;34m(\u001b[0m\u001b[0;34m\"Enter the 1st item price : \"\u001b[0m\u001b[0;34m)\u001b[0m\u001b[0;34m)\u001b[0m\u001b[0;34m\u001b[0m\u001b[0;34m\u001b[0m\u001b[0m\n\u001b[0m\u001b[1;32m      2\u001b[0m \u001b[0mb\u001b[0m \u001b[0;34m=\u001b[0m \u001b[0mint\u001b[0m\u001b[0;34m(\u001b[0m\u001b[0minput\u001b[0m\u001b[0;34m(\u001b[0m\u001b[0;34m\"Enter the 2nd item price : \"\u001b[0m\u001b[0;34m)\u001b[0m\u001b[0;34m)\u001b[0m\u001b[0;34m\u001b[0m\u001b[0;34m\u001b[0m\u001b[0m\n\u001b[1;32m      3\u001b[0m \u001b[0mc\u001b[0m \u001b[0;34m=\u001b[0m \u001b[0mint\u001b[0m\u001b[0;34m(\u001b[0m\u001b[0minput\u001b[0m\u001b[0;34m(\u001b[0m\u001b[0;34m\"Enter the 1st quntity : \"\u001b[0m\u001b[0;34m)\u001b[0m\u001b[0;34m)\u001b[0m\u001b[0;34m\u001b[0m\u001b[0;34m\u001b[0m\u001b[0m\n\u001b[1;32m      4\u001b[0m \u001b[0md\u001b[0m \u001b[0;34m=\u001b[0m \u001b[0mint\u001b[0m\u001b[0;34m(\u001b[0m\u001b[0minput\u001b[0m\u001b[0;34m(\u001b[0m\u001b[0;34m\"Enter the 2nd quntity : \"\u001b[0m\u001b[0;34m)\u001b[0m\u001b[0;34m)\u001b[0m\u001b[0;34m\u001b[0m\u001b[0;34m\u001b[0m\u001b[0m\n\u001b[1;32m      5\u001b[0m \u001b[0mtotal_price\u001b[0m \u001b[0;34m=\u001b[0m \u001b[0;34m(\u001b[0m\u001b[0ma\u001b[0m\u001b[0;34m+\u001b[0m\u001b[0mb\u001b[0m\u001b[0;34m)\u001b[0m\u001b[0;34m\u001b[0m\u001b[0;34m\u001b[0m\u001b[0m\n",
            "\u001b[0;32m/usr/local/lib/python3.12/dist-packages/ipykernel/kernelbase.py\u001b[0m in \u001b[0;36mraw_input\u001b[0;34m(self, prompt)\u001b[0m\n\u001b[1;32m   1175\u001b[0m                 \u001b[0;34m\"raw_input was called, but this frontend does not support input requests.\"\u001b[0m\u001b[0;34m\u001b[0m\u001b[0;34m\u001b[0m\u001b[0m\n\u001b[1;32m   1176\u001b[0m             )\n\u001b[0;32m-> 1177\u001b[0;31m         return self._input_request(\n\u001b[0m\u001b[1;32m   1178\u001b[0m             \u001b[0mstr\u001b[0m\u001b[0;34m(\u001b[0m\u001b[0mprompt\u001b[0m\u001b[0;34m)\u001b[0m\u001b[0;34m,\u001b[0m\u001b[0;34m\u001b[0m\u001b[0;34m\u001b[0m\u001b[0m\n\u001b[1;32m   1179\u001b[0m             \u001b[0mself\u001b[0m\u001b[0;34m.\u001b[0m\u001b[0m_parent_ident\u001b[0m\u001b[0;34m[\u001b[0m\u001b[0;34m\"shell\"\u001b[0m\u001b[0;34m]\u001b[0m\u001b[0;34m,\u001b[0m\u001b[0;34m\u001b[0m\u001b[0;34m\u001b[0m\u001b[0m\n",
            "\u001b[0;32m/usr/local/lib/python3.12/dist-packages/ipykernel/kernelbase.py\u001b[0m in \u001b[0;36m_input_request\u001b[0;34m(self, prompt, ident, parent, password)\u001b[0m\n\u001b[1;32m   1217\u001b[0m             \u001b[0;32mexcept\u001b[0m \u001b[0mKeyboardInterrupt\u001b[0m\u001b[0;34m:\u001b[0m\u001b[0;34m\u001b[0m\u001b[0;34m\u001b[0m\u001b[0m\n\u001b[1;32m   1218\u001b[0m                 \u001b[0;31m# re-raise KeyboardInterrupt, to truncate traceback\u001b[0m\u001b[0;34m\u001b[0m\u001b[0;34m\u001b[0m\u001b[0m\n\u001b[0;32m-> 1219\u001b[0;31m                 \u001b[0;32mraise\u001b[0m \u001b[0mKeyboardInterrupt\u001b[0m\u001b[0;34m(\u001b[0m\u001b[0;34m\"Interrupted by user\"\u001b[0m\u001b[0;34m)\u001b[0m \u001b[0;32mfrom\u001b[0m \u001b[0;32mNone\u001b[0m\u001b[0;34m\u001b[0m\u001b[0;34m\u001b[0m\u001b[0m\n\u001b[0m\u001b[1;32m   1220\u001b[0m             \u001b[0;32mexcept\u001b[0m \u001b[0mException\u001b[0m\u001b[0;34m:\u001b[0m\u001b[0;34m\u001b[0m\u001b[0;34m\u001b[0m\u001b[0m\n\u001b[1;32m   1221\u001b[0m                 \u001b[0mself\u001b[0m\u001b[0;34m.\u001b[0m\u001b[0mlog\u001b[0m\u001b[0;34m.\u001b[0m\u001b[0mwarning\u001b[0m\u001b[0;34m(\u001b[0m\u001b[0;34m\"Invalid Message:\"\u001b[0m\u001b[0;34m,\u001b[0m \u001b[0mexc_info\u001b[0m\u001b[0;34m=\u001b[0m\u001b[0;32mTrue\u001b[0m\u001b[0;34m)\u001b[0m\u001b[0;34m\u001b[0m\u001b[0;34m\u001b[0m\u001b[0m\n",
            "\u001b[0;31mKeyboardInterrupt\u001b[0m: Interrupted by user"
          ]
        }
      ]
    },
    {
      "cell_type": "code",
      "source": [
        "a = int(input(\"Enter the 1st item price : \"))\n",
        "b = int(input(\"Enter the 2nd item price : \"))\n",
        "c = int(input(\"Enter the 1st quntity : \"))\n",
        "d = int(input(\"Enter the 2nd quntity : \"))\n",
        "total_price = (a+b)\n",
        "total_quntity =(c+d)\n",
        "print(total_price)\n",
        "print(total_quntity)"
      ],
      "metadata": {
        "colab": {
          "base_uri": "https://localhost:8080/"
        },
        "id": "h5MBygWaaLh8",
        "outputId": "dd820bfb-56ba-4603-9599-d22282b99093"
      },
      "execution_count": null,
      "outputs": [
        {
          "output_type": "stream",
          "name": "stdout",
          "text": [
            "Enter the 1st item price : 45\n",
            "Enter the 2nd item price : 30\n",
            "Enter the 1st quntity : 3\n",
            "Enter the 2nd quntity : 2\n",
            "75\n",
            "5\n"
          ]
        }
      ]
    },
    {
      "cell_type": "code",
      "source": [
        "total = (a*c)+(b*d)"
      ],
      "metadata": {
        "id": "vuvMqZ8ha-mS"
      },
      "execution_count": null,
      "outputs": []
    },
    {
      "cell_type": "code",
      "source": [
        "print(\"Total Bill :\" , total )"
      ],
      "metadata": {
        "colab": {
          "base_uri": "https://localhost:8080/"
        },
        "id": "K9oObVOnc4fp",
        "outputId": "088de5af-67bf-4676-8f54-e414726c6714"
      },
      "execution_count": null,
      "outputs": [
        {
          "output_type": "stream",
          "name": "stdout",
          "text": [
            "Total Bill : 195\n"
          ]
        }
      ]
    },
    {
      "cell_type": "markdown",
      "source": [
        "Question 2\n"
      ],
      "metadata": {
        "id": "ZAWsTvIid4gh"
      }
    },
    {
      "cell_type": "code",
      "source": [
        "c = int(input(\"ENter in the  celsius : \"))\n",
        "f = float((c*9/5)+32)\n",
        "print(\"Temperature in celsius = \", c)\n",
        "print(\"Temperature in fahrenheit = \", f)\n"
      ],
      "metadata": {
        "colab": {
          "base_uri": "https://localhost:8080/"
        },
        "id": "ya1E5K9qd6U_",
        "outputId": "f65b74bc-8d21-4b0b-d632-50072e05769f"
      },
      "execution_count": null,
      "outputs": [
        {
          "output_type": "stream",
          "name": "stdout",
          "text": [
            "ENter in the  celsius : 30\n",
            "Temperature in celsius =  30\n",
            "Temperature in fahrenheit =  86.0\n"
          ]
        }
      ]
    },
    {
      "cell_type": "markdown",
      "source": [
        "Question 3\n"
      ],
      "metadata": {
        "id": "6pKg5I2phQG2"
      }
    },
    {
      "cell_type": "code",
      "source": [
        "a=float(input(\"enter basic salary:\"))\n",
        "n=a+(0.20*a)+(0.10*a)\n",
        "print(\"net salary:\",n)"
      ],
      "metadata": {
        "id": "bnFHxLuPhRtM",
        "colab": {
          "base_uri": "https://localhost:8080/"
        },
        "outputId": "601e1379-283f-4002-a650-5304c531af95"
      },
      "execution_count": null,
      "outputs": [
        {
          "output_type": "stream",
          "name": "stdout",
          "text": [
            "enter basic salary:2000\n",
            "net salary: 2600.0\n"
          ]
        }
      ]
    },
    {
      "cell_type": "markdown",
      "source": [
        "Question 4\n"
      ],
      "metadata": {
        "id": "5oW2q4sr3AN3"
      }
    },
    {
      "cell_type": "code",
      "source": [
        "p = int((input(\"Enter the principal amount : \")))\n",
        "r = float((input(\"Enter the rate of interest : \")))\n",
        "t = int((input(\"Enter the time period : \")))\n",
        "S1 = (p*r*t)/100\n",
        "print(\"Simple Interest = \", S1)"
      ],
      "metadata": {
        "colab": {
          "base_uri": "https://localhost:8080/"
        },
        "id": "1v2Dt9GA2_Sm",
        "outputId": "312ecc7c-7d33-4b1a-a158-b501d75ae6ec"
      },
      "execution_count": null,
      "outputs": [
        {
          "output_type": "stream",
          "name": "stdout",
          "text": [
            "Enter the principal amount : 10000\n",
            "Enter the rate of interest : 5\n",
            "Enter the time period : 2\n",
            "Simple Interest =  1000.0\n"
          ]
        }
      ]
    },
    {
      "cell_type": "markdown",
      "source": [
        "Question 5"
      ],
      "metadata": {
        "id": "LSBEmEsu4TJ9"
      }
    },
    {
      "cell_type": "code",
      "source": [
        "min = int(input(\"Enter the time in minutes : \"))\n",
        "h = int(min/60)\n",
        "m = int(min%60)\n",
        "print(\"Hour = \",h)\n",
        "print(\"min = \", m)"
      ],
      "metadata": {
        "colab": {
          "base_uri": "https://localhost:8080/"
        },
        "id": "R45lBv3d29-_",
        "outputId": "5a441531-8a9e-444f-80e4-03b2b56d8932"
      },
      "execution_count": null,
      "outputs": [
        {
          "output_type": "stream",
          "name": "stdout",
          "text": [
            "Enter the time in minutes : 320\n",
            "Hour =  5\n",
            "min =  20\n"
          ]
        }
      ]
    },
    {
      "cell_type": "markdown",
      "source": [
        "Question 6"
      ],
      "metadata": {
        "id": "KLE3kqs55OVl"
      }
    },
    {
      "cell_type": "code",
      "source": [
        "w = int(input(\"Enter the weight in kg = \"))\n",
        "h = float(input(\"Enter the height in m = \"))\n",
        "bmi = w/h**2\n",
        "print('BMI = ',bmi)"
      ],
      "metadata": {
        "colab": {
          "base_uri": "https://localhost:8080/"
        },
        "id": "Z35IMIVE4SpF",
        "outputId": "d3d31d52-9fa4-4a50-a395-184504b028f5"
      },
      "execution_count": null,
      "outputs": [
        {
          "output_type": "stream",
          "name": "stdout",
          "text": [
            "Enter the weight in kg = 60\n",
            "Enter the height in m = 1.65\n",
            "BMI =  22.03856749311295\n"
          ]
        }
      ]
    },
    {
      "cell_type": "markdown",
      "source": [
        "Question 7"
      ],
      "metadata": {
        "id": "d6hAMWBD8j2R"
      }
    },
    {
      "cell_type": "code",
      "source": [
        "p = int(input(\"Enter the orginal amout = \"))\n",
        "disp = float(input(\"Enter the discount percentage = \"))\n",
        "dis = float (p*float(disp)/100)\n",
        "new = p-dis\n",
        "print('Discount price',dis)\n",
        "print('new discounted price = ',new)"
      ],
      "metadata": {
        "colab": {
          "base_uri": "https://localhost:8080/"
        },
        "id": "4KekgUh75441",
        "outputId": "3f16d683-a31a-4a06-843c-a7dbcfebe0fd"
      },
      "execution_count": null,
      "outputs": [
        {
          "output_type": "stream",
          "name": "stdout",
          "text": [
            "Enter the orginal amout = 1200\n",
            "Enter the discount percentage = 10\n",
            "Discount price 120.0\n",
            "new discounted price =  1080.0\n"
          ]
        }
      ]
    },
    {
      "cell_type": "markdown",
      "source": [
        "Question 8"
      ],
      "metadata": {
        "id": "pzhX4m-X_0JF"
      }
    },
    {
      "cell_type": "code",
      "source": [
        "import math\n",
        "a1 = int(input(\"Enter the 1st side value = \"))\n",
        "a2 = int(input(\"Enter the 2nd side value = \"))\n",
        "a3 = int(input(\"Enter the 3rd side value = \"))\n",
        "s = int((a1+a2+a3)/2)\n",
        "area = math.sqrt((s*(s-a1)*(s-a2)*(s-a3)))\n",
        "print(\"Area of triangle = \",area)"
      ],
      "metadata": {
        "colab": {
          "base_uri": "https://localhost:8080/"
        },
        "id": "mcWZKhC58tAo",
        "outputId": "0981461f-0ee6-4ca8-8d65-02ed06cf4eb1"
      },
      "execution_count": null,
      "outputs": [
        {
          "output_type": "stream",
          "name": "stdout",
          "text": [
            "Enter the 1st side value = 5\n",
            "Enter the 2nd side value = 6\n",
            "Enter the 3rd side value = 7\n",
            "Area of triangle =  14.696938456699069\n"
          ]
        }
      ]
    },
    {
      "cell_type": "markdown",
      "source": [
        "Question 9"
      ],
      "metadata": {
        "id": "OfSHZLSrBS7T"
      }
    },
    {
      "cell_type": "code",
      "source": [
        "l = int(input(\"Enter the length in m = \"))\n",
        "h = int(input(\"Enter the height in m \"))\n",
        "a = (l*h)\n",
        "w = 2*(1.5 *1.2)\n",
        "t =  a-w\n",
        "print(\"Area = \",a)\n",
        "print(\"Total cost = \",t)\n"
      ],
      "metadata": {
        "colab": {
          "base_uri": "https://localhost:8080/"
        },
        "id": "KBSsHki9AibT",
        "outputId": "146e0d8f-a525-4d8c-ec81-59896a2a9b1d"
      },
      "execution_count": null,
      "outputs": [
        {
          "output_type": "stream",
          "name": "stdout",
          "text": [
            "Enter the length in m = 12\n",
            "Enter the height in m 8\n",
            "Area =  96\n",
            "Total cost =  92.4\n"
          ]
        }
      ]
    },
    {
      "cell_type": "markdown",
      "source": [
        "Question 9"
      ],
      "metadata": {
        "id": "oIl8svIFGEBX"
      }
    },
    {
      "cell_type": "code",
      "source": [
        "l=float(input(\"enter the length in meter : \"))\n",
        "h=float(input(\"enter the height in metet\"))\n",
        "t=l*h\n",
        "w=2*(1.5*1.2)\n",
        "p=t-w\n",
        "print(\"total area painted :\",p)\n",
        "c=p*25\n",
        "print(\"total cost\",c)"
      ],
      "metadata": {
        "colab": {
          "base_uri": "https://localhost:8080/"
        },
        "id": "Q6yEX3NvEEKv",
        "outputId": "e18abbb6-a343-4674-cccd-d4e106c40f9b"
      },
      "execution_count": null,
      "outputs": [
        {
          "output_type": "stream",
          "name": "stdout",
          "text": [
            "enter the length in meter : 12\n",
            "enter the height in metet8\n",
            "total area painted : 92.4\n",
            "total cost 2310.0\n"
          ]
        }
      ]
    },
    {
      "cell_type": "markdown",
      "source": [
        "Question 10"
      ],
      "metadata": {
        "id": "snvRUFd-Hap8"
      }
    },
    {
      "cell_type": "code",
      "source": [
        "a=float(input(\"Enter number of units consumed\"))\n",
        "b=(a*5.2)+100\n",
        "print(b)"
      ],
      "metadata": {
        "colab": {
          "base_uri": "https://localhost:8080/"
        },
        "id": "q0olYrjUGGSE",
        "outputId": "90fe3910-fd6e-4e38-e3b8-1782e6a0cd98"
      },
      "execution_count": null,
      "outputs": [
        {
          "output_type": "stream",
          "name": "stdout",
          "text": [
            "Enter number of units consumed250\n",
            "1400.0\n"
          ]
        }
      ]
    },
    {
      "cell_type": "code",
      "source": [],
      "metadata": {
        "id": "3oqmq58YHeH7"
      },
      "execution_count": null,
      "outputs": []
    }
  ]
}