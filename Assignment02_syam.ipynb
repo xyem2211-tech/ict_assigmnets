{
  "nbformat": 4,
  "nbformat_minor": 0,
  "metadata": {
    "colab": {
      "provenance": [],
      "authorship_tag": "ABX9TyM4W0zPOCEL3WnE+ZiXn9mh",
      "include_colab_link": true
    },
    "kernelspec": {
      "name": "python3",
      "display_name": "Python 3"
    },
    "language_info": {
      "name": "python"
    }
  },
  "cells": [
    {
      "cell_type": "markdown",
      "metadata": {
        "id": "view-in-github",
        "colab_type": "text"
      },
      "source": [
        "<a href=\"https://colab.research.google.com/github/xyem2211-tech/ict_assigmnets/blob/main/Assignment02_syam.ipynb\" target=\"_parent\"><img src=\"https://colab.research.google.com/assets/colab-badge.svg\" alt=\"Open In Colab\"/></a>"
      ]
    },
    {
      "cell_type": "code",
      "execution_count": 1,
      "metadata": {
        "id": "3k5sRkWM_0jN"
      },
      "outputs": [],
      "source": [
        "#Question 1"
      ]
    },
    {
      "cell_type": "code",
      "source": [
        "n=int(input(\"enter the number\"))\n",
        "if n%3==0 and n%5==0:\n",
        " print(\"fizzbuzz\")\n",
        "elif n%3==0:\n",
        " print(\"fizz\")\n",
        "elif n%5==0:\n",
        " print(\"buzz\")\n",
        "else:\n",
        " print(n)"
      ],
      "metadata": {
        "colab": {
          "base_uri": "https://localhost:8080/"
        },
        "id": "ehIp16h6Ixan",
        "outputId": "0d2aad46-ec1d-4903-b96a-4204a9b3e0be"
      },
      "execution_count": 97,
      "outputs": [
        {
          "output_type": "stream",
          "name": "stdout",
          "text": [
            "enter the number4\n",
            "4\n"
          ]
        }
      ]
    },
    {
      "cell_type": "markdown",
      "source": [
        "#Question 2"
      ],
      "metadata": {
        "id": "I7L0tGeVByVc"
      }
    },
    {
      "cell_type": "code",
      "source": [
        "u = int(input(\"Enter units consumed: \"))\n",
        "total_bill = 0\n",
        "\n",
        "if u <= 100:\n",
        " total_bill = u * 5\n",
        "elif u <= 200:\n",
        " total_bill = (100 * 5) + ((u - 100) * 7)\n",
        "else:\n",
        " total_bill = (100 * 5) + (100 * 7) + ((u - 200) * 10)\n",
        "\n",
        "print(\"Total Bill Amount: \", total_bill)"
      ],
      "metadata": {
        "colab": {
          "base_uri": "https://localhost:8080/"
        },
        "id": "evkrJGh_NsnS",
        "outputId": "686209b3-ab72-41c4-abc2-c4e44b040935"
      },
      "execution_count": 99,
      "outputs": [
        {
          "output_type": "stream",
          "name": "stdout",
          "text": [
            "Enter units consumed: 44\n",
            "Total Bill Amount:  220\n"
          ]
        }
      ]
    },
    {
      "cell_type": "markdown",
      "source": [
        "#Question 3"
      ],
      "metadata": {
        "id": "1pN4bTrJKhfY"
      }
    },
    {
      "cell_type": "code",
      "source": [
        "for i in range(1,6):\n",
        " print(i*\"*\")\n",
        ""
      ],
      "metadata": {
        "colab": {
          "base_uri": "https://localhost:8080/"
        },
        "id": "NTuTvVmiEzOc",
        "outputId": "4c4007ab-d231-4c8d-889c-e1db36cdac3b"
      },
      "execution_count": 95,
      "outputs": [
        {
          "output_type": "stream",
          "name": "stdout",
          "text": [
            "*\n",
            "**\n",
            "***\n",
            "****\n",
            "*****\n"
          ]
        }
      ]
    },
    {
      "cell_type": "code",
      "source": [
        "palin = str(input('Enter a number or string:'))\n",
        "re_palin = palin[::-1]\n",
        "if palin == re_palin:\n",
        " print('It is a palindrome')\n",
        "else:\n",
        " print('It is not a palindrome : ')"
      ],
      "metadata": {
        "colab": {
          "base_uri": "https://localhost:8080/"
        },
        "id": "o_qCoF8SLRn4",
        "outputId": "252d8fe0-ab51-4114-f24c-f1f6d1b09d10"
      },
      "execution_count": 102,
      "outputs": [
        {
          "output_type": "stream",
          "name": "stdout",
          "text": [
            "Enter a number or string:121\n",
            "It is a palindrome\n"
          ]
        }
      ]
    },
    {
      "cell_type": "code",
      "source": [],
      "metadata": {
        "id": "GXrm7jJjOt9x"
      },
      "execution_count": null,
      "outputs": []
    }
  ]
}